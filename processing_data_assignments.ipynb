{
 "cells": [
  {
   "cell_type": "markdown",
   "id": "f8756b38",
   "metadata": {},
   "source": [
    "### Processing Data assignment"
   ]
  },
  {
   "cell_type": "markdown",
   "id": "1e1f2ee0",
   "metadata": {},
   "source": [
    "            1. Write a program to fetch data from table SALES for a given orderid and display the data.\n",
    "            (Use %TYPE when declaring variables)."
   ]
  },
  {
   "cell_type": "markdown",
   "id": "f4116085",
   "metadata": {},
   "source": [
    "            DECLARE\n",
    "                dept_id HR.DEPARTMENTS.DEPARTMENT_ID%TYPE;\n",
    "                dept_name HR.DEPARTMENTS.DEPARTMENT_NAME%TYPE;\n",
    "            BEGIN\n",
    "                SELECT DEPARTMENT_ID, DEPARTMENT_NAME\n",
    "                INTO dept_id, dept_name\n",
    "                FROM HR.DEPARTMENTS\n",
    "                where DEPARTMENT_ID = 90;\n",
    "\n",
    "                dbms_output.put_line('DEPT ID : '||dept_id);\n",
    "                dbms_output.put_line('DEPT NAME : '||dept_name);\n",
    "            END;    \n",
    "\n",
    "            Result:\n",
    "            DEPT ID : 90\n",
    "            DEPT NAME : Executive\n",
    "\n"
   ]
  },
  {
   "cell_type": "markdown",
   "id": "4eba9307",
   "metadata": {},
   "source": [
    "            2. Write a program to insert data into SALES table."
   ]
  },
  {
   "cell_type": "markdown",
   "id": "1631811a",
   "metadata": {},
   "source": [
    "            DECLARE\n",
    "                dept_id HR.DEPARTMENTS.DEPARTMENT_ID%TYPE := 1001;\n",
    "                dept_name HR.DEPARTMENTS.DEPARTMENT_NAME%TYPE := 'Finance';\n",
    "            BEGIN\n",
    "                INSERT INTO HR.DEPARTMENTS(DEPARTMENT_ID, DEPARTMENT_NAME) \n",
    "                VALUES(dept_id, dept_name);\n",
    "\n",
    "                commit;\n",
    "\n",
    "                dbms_output.put_line('Data loaded successfully');\n",
    "            END;    "
   ]
  },
  {
   "cell_type": "markdown",
   "id": "2c9ebbc7",
   "metadata": {},
   "source": [
    "            3. Write a program to update data in SALES table for a given orderid (Change order\n",
    "            amount to 100)."
   ]
  },
  {
   "cell_type": "markdown",
   "id": "75a7a270",
   "metadata": {},
   "source": [
    "            DECLARE\n",
    "                dept_id HR.DEPARTMENTS.DEPARTMENT_ID%TYPE := 90;\n",
    "            BEGIN\n",
    "                update HR.DEPARTMENTS set DEPARTMENT_NAME = 'Marketing'\n",
    "                where DEPARTMENT_ID = dept_id;\n",
    "\n",
    "                commit;\n",
    "\n",
    "                dbms_output.put_line('Data Updated Successfully');\n",
    "            END;"
   ]
  },
  {
   "cell_type": "markdown",
   "id": "cb7bcd51",
   "metadata": {},
   "source": [
    "            4. Write a program to delete data from SALES table for a given orderid."
   ]
  },
  {
   "cell_type": "markdown",
   "id": "f6f13215",
   "metadata": {},
   "source": [
    "            DECLARE\n",
    "                dept_id HR.DEPARTMENTS.DEPARTMENT_ID%TYPE := 90;\n",
    "            BEGIN\n",
    "                DELETE from HR.DEPARTMENTS\n",
    "                where DEPARTMENT_ID = dept_id;\n",
    "\n",
    "                commit;\n",
    "\n",
    "                dbms_output.put_line('Data Deleted Successfully');\n",
    "            END;    "
   ]
  }
 ],
 "metadata": {
  "language_info": {
   "name": "python"
  }
 },
 "nbformat": 4,
 "nbformat_minor": 5
}
