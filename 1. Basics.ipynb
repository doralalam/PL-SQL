{
 "cells": [
  {
   "cell_type": "markdown",
   "id": "2321ce08",
   "metadata": {},
   "source": [
    "### PL/SQL Basics"
   ]
  },
  {
   "cell_type": "markdown",
   "id": "3ae51182",
   "metadata": {},
   "source": [
    "#### 1. What is PL/SQL?\n",
    "\n",
    "    1. PL/SQL is the procedural language extension of SQL\n",
    "    \n",
    "    2. SQL Statements + Procedural Statements\n",
    "\n",
    "    3. SQL Statements are used to fetch the data\n",
    "\n",
    "    4. Procedural statements are used to process the data\n"
   ]
  },
  {
   "cell_type": "markdown",
   "id": "96846368",
   "metadata": {},
   "source": [
    "#### 2. Why SQL alone is not enough?\n",
    "\n",
    "    1. SQL doesn't support looping and conditional statements\n",
    "\n",
    "    2. SQL cannot execute more than 1 task at a time\n",
    "\n",
    "    3. SQL can't handle exception as per the business requirements\n",
    "\n",
    "    4. No code re-usability\n",
    "\n",
    "    5. No modularity or OOPs features"
   ]
  },
  {
   "cell_type": "markdown",
   "id": "336e9117",
   "metadata": {},
   "source": [
    "#### 3. PL/SQL Advantages\n",
    "\n",
    "    1. Portable, high-performance transaction processing language\n",
    "\n",
    "    2. Supports SQL and OOPs\n",
    "\n",
    "    3. Better Performance\n",
    "\n",
    "    4. Tight Security"
   ]
  },
  {
   "cell_type": "markdown",
   "id": "151bfa4f",
   "metadata": {},
   "source": [
    "#### 4. PL/SQL structure\n",
    "\n",
    "    1. PL/SQL is a block-structured language i.e., broked down into logical blocks\n",
    "\n",
    "    2. Each block consists of three sub-parts\n",
    "\n",
    "            1 DECLARE\n",
    "\n",
    "                <declarations section>\n",
    "                consists of variables, cursors and sub-programs\n",
    "\n",
    "            2 BEGIN\n",
    "\n",
    "                <executable commands>\n",
    "                consists of logical statements for update and retrieval etc\n",
    "\n",
    "            3 EXCEPTION\n",
    "\n",
    "                <exception handling section>\n",
    "                consists of catch statements to catch the exceptions thrown in the previous blocks\n",
    "\n",
    "            END;"
   ]
  },
  {
   "cell_type": "markdown",
   "id": "9fd89c53",
   "metadata": {},
   "source": [
    "#### 5. FIRST EXAMPLE\n",
    "\n",
    "            DECLARE\n",
    "            BEGIN\n",
    "                dbms_ouput.put_line('Welcome to the course');\n",
    "            END;\n",
    "\n",
    "            OUTPUT:   \n",
    "            Welcome to the course"
   ]
  },
  {
   "cell_type": "markdown",
   "id": "28b466c2",
   "metadata": {},
   "source": [
    "#### 6. DECLARING VARIABLES\n",
    "\n",
    "            DECLARE\n",
    "\n",
    "            ordernumber number:=1001;\n",
    "            \n",
    "            BEGIN\n",
    "\n",
    "                dbms_output.PUT_LINE('Welcome to the course');\n",
    "                dbms_output.put_line(ordernumber);\n",
    "\n",
    "            END;"
   ]
  },
  {
   "cell_type": "markdown",
   "id": "4b37fc14",
   "metadata": {},
   "source": [
    "            OUTPUT:\n",
    "\n",
    "                Welcome to the course\n",
    "                1001\n",
    "\n"
   ]
  },
  {
   "cell_type": "markdown",
   "id": "bfe3dbc6",
   "metadata": {},
   "source": [
    "#### Another way of declaring variables\n",
    "\n",
    "            DECLARE\n",
    "\n",
    "            ordernumber number:=1001;\n",
    "            orderid number default 1002;\n",
    "\n",
    "            BEGIN\n",
    "\n",
    "                dbms_output.PUT_LINE('Welcome to the course');\n",
    "                dbms_output.put_line(ordernumber);\n",
    "                dbms_output.put_line(orderid);\n",
    "\n",
    "            END;"
   ]
  },
  {
   "cell_type": "markdown",
   "id": "9a19fb38",
   "metadata": {},
   "source": [
    "            OUTPUT:\n",
    "\n",
    "            Welcome to the course\n",
    "            1001\n",
    "            1002\n",
    "\n"
   ]
  },
  {
   "cell_type": "markdown",
   "id": "86b20f42",
   "metadata": {},
   "source": [
    "#### Assigning a character value\n",
    "            DECLARE\n",
    "\n",
    "            ordernumber number:=1001;\n",
    "            orderid number default 1002;\n",
    "            customername varchar2(20):= 'Dora Babu';\n",
    "\n",
    "            BEGIN\n",
    "\n",
    "                dbms_output.PUT_LINE('Welcome to the course');\n",
    "                dbms_output.put_line(ordernumber);\n",
    "                dbms_output.put_line(orderid);\n",
    "                dbms_output.put_line(customername);\n",
    "\n",
    "            END;\n",
    "\n",
    "            OUTPUT:\n",
    "            Welcome to the course\n",
    "            1001\n",
    "            1002\n",
    "            Dora Babu\n",
    "\n"
   ]
  },
  {
   "cell_type": "markdown",
   "id": "7dc2180f",
   "metadata": {},
   "source": [
    "#### Updating within the variable within the BEGIN block\n",
    "            DECLARE\n",
    "\n",
    "            ordernumber number:=1001;\n",
    "            orderid number default 1002;\n",
    "            customername varchar2(20):= 'Dora Babu';\n",
    "\n",
    "            BEGIN\n",
    "\n",
    "                dbms_output.PUT_LINE('Welcome to the course');\n",
    "                dbms_output.put_line(ordernumber);\n",
    "                dbms_output.put_line(orderid);\n",
    "                dbms_output.put_line(customername);\n",
    "                ordernumber := 5001;\n",
    "                dbms_output.put_line(ordernumber);\n",
    "\n",
    "            END;\n",
    "\n",
    "            OUTPUT:\n",
    "            Welcome to the course\n",
    "            1001\n",
    "            1002\n",
    "            Dora Babu\n",
    "            5001\n"
   ]
  },
  {
   "cell_type": "markdown",
   "id": "05e6d309",
   "metadata": {},
   "source": [
    "#### Contant values declared in DECLARE block shouldn't be over-rided in the BEGIN block\n",
    "            DECLARE\n",
    "\n",
    "            ordernumber CONSTANT number:=1001;\n",
    "            orderid number default 1002;\n",
    "            customername varchar2(20):= 'Dora Babu';\n",
    "\n",
    "            BEGIN\n",
    "\n",
    "                dbms_output.PUT_LINE('Welcome to the course');\n",
    "                dbms_output.put_line(ordernumber);\n",
    "                dbms_output.put_line(orderid);\n",
    "                dbms_output.put_line(customername);\n",
    "                ordernumber := 5001;\n",
    "                dbms_output.put_line(ordernumber);\n",
    "\n",
    "            END;\n",
    "\n",
    "\n",
    "            RESULT:\n",
    "            ORA-06550: line 13, column 5:\n",
    "            PLS-00363: expression 'ORDERNUMBER' cannot be used as an assignment target\n",
    "            ORA-06550: line 13, column 5:\n",
    "            PL/SQL: Statement ignored\n"
   ]
  },
  {
   "cell_type": "markdown",
   "id": "b3f5ef86",
   "metadata": {},
   "source": [
    "#### Comments in PL/SQL\n",
    "\n",
    "            Single Line Comment:\n",
    "            -- this is a single line comment\n",
    "\n",
    "            Multi-Line Comment:\n",
    "            /* \n",
    "            This is \n",
    "            for multi\n",
    "            line comments\n",
    "            */\n"
   ]
  },
  {
   "cell_type": "markdown",
   "id": "b4eea0ca",
   "metadata": {},
   "source": [
    "#### Scope of Variables\n",
    "            DECLARE\n",
    "                -- Global Variable\n",
    "                NUM1 NUMBER := 100;\n",
    "            BEGIN\n",
    "                -- Accessing Global Variables\n",
    "                DBMS_OUTPUT.PUT_LINE('Outer Variable in parent block: ' || NUM1);\n",
    "                DECLARE\n",
    "                    -- Local Variable\n",
    "                    NUM2 NUMBER := 200;\n",
    "                BEGIN\n",
    "                    -- Accessing Local & Global Variables\n",
    "                    DBMS_OUTPUT.PUT_LINE('Outer Variable in sub-block: ' || NUM1);\n",
    "                    DBMS_OUTPUT.PUT_LINE('Inner Variable in sub-block: ' || NUM2);\n",
    "                    \n",
    "                END;\n",
    "\n",
    "            END;\n",
    "\n",
    "            Result:\n",
    "            Outer Variable in parent block: 100\n",
    "            Outer Variable in sub-block: 100\n",
    "            Inner Variable in sub-block: 200\n",
    "\n"
   ]
  },
  {
   "cell_type": "markdown",
   "id": "3870c902",
   "metadata": {},
   "source": [
    "### Conditional Statements"
   ]
  },
  {
   "cell_type": "markdown",
   "id": "5d22abc8",
   "metadata": {},
   "source": [
    "#### IF then ELSE Statement\n",
    "            DECLARE\n",
    "                total_amount number := 120;\n",
    "                discount NUMBER:= 0;\n",
    "            BEGIN \n",
    "                IF total_amount >= 200 \n",
    "                THEN\n",
    "                DISCOUNT := total_amount * 0.2;\n",
    "                ELSIF total_amount >=100 and total_amount < 200\n",
    "                THEN\n",
    "                    DISCOUNT := total_amount * 0.1;\n",
    "                ELSE\n",
    "                    discount := total_amount * 0.05;\n",
    "                END IF;\n",
    "                \n",
    "                DBMS_OUTPUT.PUT_LINE( 'Discount : ' || DISCOUNT ); \n",
    "            END;\n",
    "\n",
    "            RESULT:\n",
    "            Discount : 12\n",
    "\n",
    "\n"
   ]
  },
  {
   "cell_type": "markdown",
   "id": "5e78a86e",
   "metadata": {},
   "source": [
    "#### Case Statement\n",
    "            DECLARE\n",
    "            total_amount number := 200;\n",
    "            discount number := 0;\n",
    "            BEGIN\n",
    "                case\n",
    "                    WHEN total_amount >= 200\n",
    "                    then \n",
    "                        discount := total_amount * 0.2;\n",
    "                    when total_amount >-100 and total_amount < 200\n",
    "                    then\n",
    "                        discount := total_amount * 0.1;\n",
    "                    else \n",
    "                        discount := total_amount * 0.05;\n",
    "                end case;\n",
    "                dbms_output.PUT_LINE('Discount : ' || discount);\n",
    "            END;\n",
    "\n",
    "            RESULT:\n",
    "            Discount : 40\n",
    "\n"
   ]
  },
  {
   "cell_type": "markdown",
   "id": "4f562c37",
   "metadata": {},
   "source": [
    "### Looping Statements"
   ]
  },
  {
   "cell_type": "markdown",
   "id": "45691e89",
   "metadata": {},
   "source": [
    "#### While Loop\n",
    "            DECLARE\n",
    "                cntr number := 0;\n",
    "            BEGIN\n",
    "                while cntr < 10\n",
    "                LOOP\n",
    "                    dbms_output.put_line('Counter Value : ' || cntr);\n",
    "                    cntr := cntr+1;\n",
    "                END LOOP;\n",
    "            END;\n",
    "\n",
    "            Result:\n",
    "            Counter Value : 0\n",
    "            Counter Value : 1\n",
    "            Counter Value : 2\n",
    "            Counter Value : 3\n",
    "            Counter Value : 4\n",
    "            Counter Value : 5\n",
    "            Counter Value : 6\n",
    "            Counter Value : 7\n",
    "            Counter Value : 8\n",
    "            Counter Value : 9\n",
    "\n"
   ]
  },
  {
   "cell_type": "markdown",
   "id": "75015692",
   "metadata": {},
   "source": [
    "#### For Loop\n",
    "            DECLARE\n",
    "                cntr number := 0;\n",
    "            BEGIN\n",
    "                -- Upper limit number is inclusive\n",
    "                for cntr in 0..10\n",
    "                LOOP\n",
    "                    dbms_output.put_line('Counter Value : ' || cntr);\n",
    "                END LOOP;\n",
    "            END;\n",
    "\n",
    "            Result:\n",
    "            Counter Value : 0\n",
    "            Counter Value : 1\n",
    "            Counter Value : 2\n",
    "            Counter Value : 3\n",
    "            Counter Value : 4\n",
    "            Counter Value : 5\n",
    "            Counter Value : 6\n",
    "            Counter Value : 7\n",
    "            Counter Value : 8\n",
    "            Counter Value : 9\n",
    "            Counter Value : 10\n",
    "\n"
   ]
  },
  {
   "cell_type": "markdown",
   "id": "a9384cf8",
   "metadata": {},
   "source": [
    "#### To perform For looping in revers\n",
    "            DECLARE\n",
    "                cntr number := 0;\n",
    "            BEGIN\n",
    "                -- looping in reverse\n",
    "                for cntr in reverse 0..10\n",
    "                LOOP\n",
    "                    dbms_output.put_line('Counter Value : ' || cntr);\n",
    "                END LOOP;\n",
    "            END;\n",
    "\n",
    "            Result:\n",
    "            Counter Value : 10\n",
    "            Counter Value : 9\n",
    "            Counter Value : 8\n",
    "            Counter Value : 7\n",
    "            Counter Value : 6\n",
    "            Counter Value : 5\n",
    "            Counter Value : 4\n",
    "            Counter Value : 3\n",
    "            Counter Value : 2\n",
    "            Counter Value : 1\n",
    "            Counter Value : 0\n",
    "\n"
   ]
  }
 ],
 "metadata": {
  "language_info": {
   "name": "python"
  }
 },
 "nbformat": 4,
 "nbformat_minor": 5
}
