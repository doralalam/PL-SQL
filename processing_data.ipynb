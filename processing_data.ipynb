{
 "cells": [
  {
   "cell_type": "markdown",
   "id": "76024650",
   "metadata": {},
   "source": [
    "### Processing Data\n",
    "\n",
    "##### Using Human Resourses (HR) Tables in Live Oracle SQL\n",
    "\n",
    "##### HR.EMPLOYEES"
   ]
  },
  {
   "cell_type": "markdown",
   "id": "dbf48a17",
   "metadata": {},
   "source": [
    "#### Reading Data from Database (i.e., storing the data in PL/SQL variables)\n",
    "            DECLARE\n",
    "                --Explicitly mentioning the data types\n",
    "                emp_id varchar2(10);\n",
    "                f_name varchar2(50);\n",
    "                l_name varchar2(50);\n",
    "            BEGIN\n",
    "                select EMPLOYEE_ID, FIRST_NAME, LAST_NAME into emp_id, f_name, l_name\n",
    "                from hr.EMPLOYEES\n",
    "                where EMPLOYEE_ID = 100; \n",
    "                dbms_output.put_line('Employee ID : '||emp_id);\n",
    "                dbms_output.put_line('First Name : '||f_name);\n",
    "                dbms_output.put_line('Last Name : '||l_name);\n",
    "            END;\n",
    "\n",
    "            Result:\n",
    "            Employee ID : 100\n",
    "            First Name : Steven\n",
    "            Last Name : King\n",
    "\n"
   ]
  },
  {
   "cell_type": "markdown",
   "id": "11c52aa2",
   "metadata": {},
   "source": [
    "#### %Type\n",
    "\n",
    "            %type is used to declare the datatypes implicitly\n",
    "            i.e, %type will assign the same datatype of a field in database to PL/SQL variables"
   ]
  },
  {
   "cell_type": "markdown",
   "id": "41d82e18",
   "metadata": {},
   "source": [
    "            DECLARE\n",
    "                -- Data type is implicitly copied from the database\n",
    "                emp_id HR.EMPLOYEES.EMPLOYEE_ID%TYPE;\n",
    "                f_name HR.EMPLOYEES.FIRST_NAME%TYPE;\n",
    "                l_name HR.EMPLOYEES.LAST_NAME%TYPE;\n",
    "            BEGIN\n",
    "                select EMPLOYEE_ID, FIRST_NAME, LAST_NAME into emp_id, f_name, l_name\n",
    "                from hr.EMPLOYEES\n",
    "                where EMPLOYEE_ID = 102; \n",
    "                dbms_output.put_line('Employee ID : '||emp_id);\n",
    "                dbms_output.put_line('First Name : '||f_name);\n",
    "                dbms_output.put_line('Last Name : '||l_name);\n",
    "            END;\n",
    "\n",
    "            Result:\n",
    "            Employee ID : 102\n",
    "            First Name : Lex\n",
    "            Last Name : Garcia\n",
    "\n"
   ]
  },
  {
   "cell_type": "markdown",
   "id": "968be178",
   "metadata": {},
   "source": [
    "#### Inserting data into database\n",
    "\n",
    "            DECLARE\n",
    "                -- explicit mentioning of the datatype\n",
    "                emp_id HR.EMPLOYEES.EMPLOYEE_ID%type := 200;\n",
    "                f_name HR.EMPLOYEES.FIRST_NAME%type := 'Dora';\n",
    "            BEGIN\n",
    "                INSERT INTO HR.EMPLOYEES(EMPLOYEE_ID, FIRST_NAME)\n",
    "                VALUES(emp_id, f_name);\n",
    "\n",
    "                commit;\n",
    "\n",
    "                dbms_output.put_line('Data Successfully Loaded');\n",
    "\n",
    "            END;"
   ]
  }
 ],
 "metadata": {
  "language_info": {
   "name": "python"
  }
 },
 "nbformat": 4,
 "nbformat_minor": 5
}
