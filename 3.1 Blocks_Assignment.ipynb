{
 "cells": [
  {
   "cell_type": "markdown",
   "id": "1af2a8f6",
   "metadata": {},
   "source": [
    "#### Blocks Assignment"
   ]
  },
  {
   "cell_type": "markdown",
   "id": "a3808fe7",
   "metadata": {},
   "source": [
    "1. Write a procedure to fetch data from table SALES for a given parameter orderid and\n",
    "display the data."
   ]
  }
 ],
 "metadata": {
  "language_info": {
   "name": "python"
  }
 },
 "nbformat": 4,
 "nbformat_minor": 5
}
