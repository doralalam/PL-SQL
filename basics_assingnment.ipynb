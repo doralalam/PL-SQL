{
 "cells": [
  {
   "cell_type": "markdown",
   "id": "1bc891f1",
   "metadata": {},
   "source": [
    "### Basics Assignment"
   ]
  },
  {
   "cell_type": "markdown",
   "id": "25346d15",
   "metadata": {},
   "source": [
    "            1. Write a program to declare 3 variables with datatype as below and display their values.\n",
    "             Number\n",
    "             Varchar\n",
    "             Date"
   ]
  },
  {
   "cell_type": "markdown",
   "id": "6439ca76",
   "metadata": {},
   "source": [
    "            DECLARE\n",
    "                num number := 100;\n",
    "                character varchar(20) := 'apple';\n",
    "                bday date := TO_DATE('15-03-2002','dd-mm-yyyy');\n",
    "            BEGIN\n",
    "                dbms_output.put_line('Number is ' || num);\n",
    "                dbms_output.put_line('String is ' || character);\n",
    "                dbms_output.put_line('Date is ' || bday);\n",
    "            END;\n",
    "                \n",
    "            Result:\n",
    "            Number is 100\n",
    "            String is apple\n",
    "            Date is 15-MAR-02\n",
    "\n"
   ]
  },
  {
   "cell_type": "markdown",
   "id": "2cbc3449",
   "metadata": {},
   "source": [
    "            2. Write a program to check for a salary value and display the output based on the salary\n",
    "            range (use IF condition)\n",
    "             if salary is greater than 100000 then display the output as 'Grade A'\n",
    "             if salary is between 50000 and 100000 then display the output as 'Grade B'\n",
    "             if salary is between 25000 and 50000 then display the output as 'Grade C'\n",
    "             if salary is between 10000 and 25000 then display the output as 'Grade D'\n",
    "             otherwise display the output as 'Grade E'"
   ]
  },
  {
   "cell_type": "markdown",
   "id": "75bcaa75",
   "metadata": {},
   "source": [
    "            DECLARE\n",
    "                total_salary number := 100000;\n",
    "            BEGIN\n",
    "                if total_salary > 100000\n",
    "                then\n",
    "                    dbms_output.put_line('Grade A');\n",
    "                elsif total_salary > 50000 and total_salary <= 100000\n",
    "                then\n",
    "                    dbms_output.put_line('Grade B');\n",
    "                elsif total_salary > 25000 and total_salary <= 50000\n",
    "                then\n",
    "                    dbms_output.put_line('Grade C');\n",
    "                elsif total_salary > 10000 and total_salary <= 25000\n",
    "                then\n",
    "                    dbms_output.put_line('Grade D');\n",
    "                ELSE\n",
    "                    dbms_output.put_line('Grade E');\n",
    "                end if;\n",
    "            END;\n",
    "\n",
    "            Result:\n",
    "            Grade B\n",
    "\n"
   ]
  },
  {
   "cell_type": "markdown",
   "id": "f2dbf357",
   "metadata": {},
   "source": [
    "            3. Write a program using the same conditions as in the #2 question, but use CASE\n",
    "            condition instead of IF condition."
   ]
  },
  {
   "cell_type": "markdown",
   "id": "10556237",
   "metadata": {},
   "source": [
    "            DECLARE\n",
    "                total_salary number := 200000;\n",
    "            BEGIN\n",
    "                case\n",
    "                when total_salary > 100000\n",
    "                then\n",
    "                    dbms_output.put_line('Grade A');\n",
    "                when total_salary > 50000 and total_salary <= 100000\n",
    "                then\n",
    "                    dbms_output.put_line('Grade B');\n",
    "                when total_salary > 25000 and total_salary <= 50000\n",
    "                then\n",
    "                    dbms_output.put_line('Grade C');\n",
    "                when total_salary > 10000 and total_salary <= 25000\n",
    "                then\n",
    "                    dbms_output.put_line('Grade D');\n",
    "                ELSE\n",
    "                    dbms_output.put_line('Grade E');\n",
    "                end CASE;\n",
    "            END;\n",
    "\n",
    "            Result:\n",
    "            Grade A\n",
    "\n"
   ]
  },
  {
   "cell_type": "markdown",
   "id": "64398867",
   "metadata": {},
   "source": [
    "            4. Write a program to display values from 200 to 300 using a WHILE loop."
   ]
  },
  {
   "cell_type": "markdown",
   "id": "1609dee5",
   "metadata": {},
   "source": [
    "            DECLARE\n",
    "                num number := 200;\n",
    "            BEGIN\n",
    "                while num <=300\n",
    "                loop\n",
    "                    dbms_output.put_line('Value : ' || num);\n",
    "                    num := num+1;\n",
    "                end LOOP;\n",
    "            END;\n",
    "\n",
    "            Result:\n",
    "            Value : 200\n",
    "            Value : 201\n",
    "            ..........\n",
    "            ..........\n",
    "            Value : 299\n",
    "            Value : 300\n",
    "\n"
   ]
  },
  {
   "cell_type": "markdown",
   "id": "108b4a30",
   "metadata": {},
   "source": [
    "            5. Write a program to display values from 200 to 300 using a FOR loop."
   ]
  },
  {
   "cell_type": "markdown",
   "id": "d0f84e65",
   "metadata": {},
   "source": [
    "            DECLARE\n",
    "                num number := 200;\n",
    "            BEGIN\n",
    "                for num in 200..300\n",
    "                loop\n",
    "                    dbms_output.put_line('Value : ' || num);\n",
    "                end LOOP;\n",
    "            END;\n",
    "\n",
    "\n",
    "            Result:\n",
    "            Value : 200\n",
    "            Value : 201\n",
    "            ..........\n",
    "            ..........\n",
    "            Value : 299\n",
    "            Value : 300"
   ]
  },
  {
   "cell_type": "markdown",
   "id": "da51aa70",
   "metadata": {},
   "source": [
    "            6. Write a program to perform below steps\n",
    "             Declare a variable\n",
    "             If the variable value is 1 then display values from 300 to 400 using a WHILE loop\n",
    "             If the variable value is 2 then display values from 400 to 800 using a FOR loop\n",
    "             If the variable value is 3 then just display “wrong choice”"
   ]
  },
  {
   "cell_type": "markdown",
   "id": "ced945e2",
   "metadata": {},
   "source": [
    "            DECLARE\n",
    "                num number := 2;\n",
    "            BEGIN\n",
    "                case\n",
    "                    when num = 1\n",
    "                    then\n",
    "                        DECLARE\n",
    "                            var number := 300;\n",
    "                        BEGIN\n",
    "                            while var <= 400\n",
    "                            loop\n",
    "                                dbms_output.put_line('Value : '|| var);\n",
    "                                var := var+1;\n",
    "                            end loop;\n",
    "                        END;\n",
    "                    when num =2\n",
    "                    then\n",
    "                        DECLARE\n",
    "                            var number := 400;\n",
    "                        BEGIN\n",
    "                            for var in 400..800\n",
    "                            loop\n",
    "                                dbms_output.put_line('Value : '|| var);\n",
    "                            end loop;\n",
    "                        END;\n",
    "                    when num =3\n",
    "                    then\n",
    "                        dbms_output.put_line('Wrong Choice');\n",
    "                end case;\n",
    "            END;\n",
    "\n",
    "            Result:\n",
    "            Value : 300\n",
    "            Value : 301\n",
    "            ...........\n",
    "            ...........\n",
    "            Value : 397\n",
    "            Value : 398\n",
    "            Value : 399\n",
    "            Value : 400\n",
    "\n"
   ]
  }
 ],
 "metadata": {
  "language_info": {
   "name": "python"
  }
 },
 "nbformat": 4,
 "nbformat_minor": 5
}
